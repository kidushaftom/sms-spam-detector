{
 "cells": [
  {
   "cell_type": "code",
   "execution_count": 56,
   "metadata": {},
   "outputs": [],
   "source": [
    "# Import pandas\n",
    "import pandas as pd\n",
    "# Import the required dependencies from sklearn\n",
    "from sklearn.model_selection import train_test_split\n",
    "from sklearn.pipeline import Pipeline\n",
    "from sklearn.feature_extraction.text import TfidfVectorizer\n",
    "from sklearn.svm import LinearSVC\n",
    "\n",
    "# Set the column width to view the text message data.\n",
    "pd.set_option('max_colwidth', 200)\n",
    "\n",
    "# Import Gradio\n",
    "import gradio as gr"
   ]
  },
  {
   "cell_type": "code",
   "execution_count": 57,
   "metadata": {},
   "outputs": [],
   "source": [
    "from sklearn.pipeline import Pipeline\n",
    "from sklearn.feature_extraction.text import TfidfVectorizer\n",
    "from sklearn.svm import LinearSVC\n",
    "from sklearn.model_selection import train_test_split\n",
    "import pandas as pd\n",
    "\n",
    "def sms_classification(sms_text_df):\n",
    "    \"\"\"\n",
    "    Perform SMS classification using a pipeline with TF-IDF vectorization and Linear Support Vector Classification.\n",
    "\n",
    "    Parameters:\n",
    "    - sms_text_df (pd.DataFrame): DataFrame containing 'text_message' and 'label' columns for SMS classification.\n",
    "\n",
    "    Returns:\n",
    "    - text_clf (Pipeline): Fitted pipeline model for SMS classification.\n",
    "\n",
    "    This function takes a DataFrame with 'text_message' and 'label' columns, splits the data into\n",
    "    training and testing sets, builds a pipeline with TF-IDF vectorization and Linear Support Vector\n",
    "    Classification, and fits the model to the training data. \n",
    "    The fitted pipeline is returned to make future predictions.\n",
    "    \"\"\"\n",
    "    # Set the features variable to the text message column.\n",
    "    features = sms_text_df['text_message']\n",
    "    \n",
    "    # Set the target variable to the \"label\" column.\n",
    "    target = sms_text_df['label']\n",
    "   \n",
    "    # Split data into training and testing and set the test_size = 33%\n",
    "    X_train, X_test, y_train, y_test = train_test_split(features, target, test_size=0.33, random_state=42)\n",
    "    \n",
    "    # Build a pipeline to transform the test set to compare to the training set.\n",
    "    text_clf = Pipeline([\n",
    "        ('tfidf', TfidfVectorizer()),\n",
    "        ('clf', LinearSVC())\n",
    "    ])\n",
    "    \n",
    "    # Fit the model to the transformed training data and return model.\n",
    "    text_clf.fit(X_train, y_train)\n",
    "    return text_clf\n",
    "\n"
   ]
  },
  {
   "cell_type": "code",
   "execution_count": 58,
   "metadata": {},
   "outputs": [],
   "source": [
    "# Load the dataset into a DataFrame\n",
    "sms_text_df = pd.read_csv('Resources/SMSSpamCollection.csv')\n"
   ]
  },
  {
   "cell_type": "code",
   "execution_count": 59,
   "metadata": {},
   "outputs": [
    {
     "name": "stderr",
     "output_type": "stream",
     "text": [
      "c:\\Users\\hafto\\anaconda3\\lib\\site-packages\\sklearn\\svm\\_classes.py:31: FutureWarning: The default value of `dual` will change from `True` to `'auto'` in 1.5. Set the value of `dual` explicitly to suppress the warning.\n",
      "  warnings.warn(\n"
     ]
    }
   ],
   "source": [
    "# Call the sms_classification function with the DataFrame and set the result to the \"text_clf\" variable\n",
    "text_clf = sms_classification(sms_text_df)"
   ]
  },
  {
   "cell_type": "code",
   "execution_count": 60,
   "metadata": {},
   "outputs": [],
   "source": [
    "# Create a function called `sms_prediction` that takes in the SMS text and predicts the whether the text is \"not spam\" or \"spam\". \n",
    "# The function should return the SMS message, and say whether the text is \"not spam\" or \"spam\".\n",
    "# Define the sms_prediction function\n",
    "def sms_prediction(text):\n",
    "    \"\"\"\n",
    "    Predict the classification of a new text message as \"ham\" or \"spam\".\n",
    "\n",
    "    Parameters:\n",
    "    - text (str): New text message to classify.\n",
    "    - model: Fitted pipeline model for SMS classification.\n",
    "\n",
    "    Returns:\n",
    "    - str: Classification result message.\n",
    "    \"\"\"\n",
    "    # Make a prediction using the provided model\n",
    "    prediction = text_clf.predict([text])[0]\n",
    "    \n",
    "    # Check if the prediction is \"ham\" or \"spam\" and return the corresponding message\n",
    "    if prediction == 'ham':\n",
    "        return f'The text message: \"{text}\", is not spam.'\n",
    "    else:\n",
    "        return f'The text message: \"{text}\", is spam.'\n"
   ]
  },
  {
   "cell_type": "code",
   "execution_count": 61,
   "metadata": {},
   "outputs": [
    {
     "name": "stderr",
     "output_type": "stream",
     "text": [
      "c:\\Users\\hafto\\anaconda3\\lib\\site-packages\\sklearn\\svm\\_classes.py:31: FutureWarning: The default value of `dual` will change from `True` to `'auto'` in 1.5. Set the value of `dual` explicitly to suppress the warning.\n",
      "  warnings.warn(\n"
     ]
    },
    {
     "name": "stdout",
     "output_type": "stream",
     "text": [
      "Running on local URL:  http://127.0.0.1:7870\n",
      "\n",
      "To create a public link, set `share=True` in `launch()`.\n"
     ]
    },
    {
     "data": {
      "text/html": [
       "<div><iframe src=\"http://127.0.0.1:7870/\" width=\"100%\" height=\"500\" allow=\"autoplay; camera; microphone; clipboard-read; clipboard-write;\" frameborder=\"0\" allowfullscreen></iframe></div>"
      ],
      "text/plain": [
       "<IPython.core.display.HTML object>"
      ]
     },
     "metadata": {},
     "output_type": "display_data"
    },
    {
     "data": {
      "text/plain": []
     },
     "execution_count": 61,
     "metadata": {},
     "output_type": "execute_result"
    }
   ],
   "source": [
    "# Create a sms_app that takes a textbox for the inputs and has a textbox for the output.  \n",
    "# Povide labels for each textbox.   \n",
    "# Launch the app.\n",
    "import gradio as gr\n",
    "\n",
    "text_clf = sms_classification(sms_text_df)\n",
    "# Create a Gradio interface\n",
    "iface = gr.Interface(\n",
    "    fn=sms_prediction, \n",
    "    inputs=gr.Textbox(lines=5, label=\"Enter the text message to classify\"),\n",
    "    outputs=gr.Textbox(label=\"Classification Result\"),\n",
    "    title=\"SMS Classification\",\n",
    "    description=\"Enter a text message to classify as 'ham' or 'spam'.\"\n",
    ")\n",
    "\n",
    "# Launch the interface\n",
    "iface.launch()\n",
    "\n",
    "\n",
    "\n",
    "\n"
   ]
  },
  {
   "cell_type": "markdown",
   "metadata": {},
   "source": [
    "## Test the following text messages. \n",
    "\n",
    "---\n",
    "\n",
    "1. You are a lucky winner of $5000!\n",
    "2. You won 2 free tickets to the Super Bowl.\n",
    "3. You won 2 free tickets to the Super Bowl text us to claim your prize.\n",
    "4. Thanks for registering. Text 4343 to receive free updates on medicare."
   ]
  },
  {
   "cell_type": "code",
   "execution_count": null,
   "metadata": {},
   "outputs": [],
   "source": []
  }
 ],
 "metadata": {
  "kernelspec": {
   "display_name": "Python 3 (ipykernel)",
   "language": "python",
   "name": "python3"
  },
  "language_info": {
   "codemirror_mode": {
    "name": "ipython",
    "version": 3
   },
   "file_extension": ".py",
   "mimetype": "text/x-python",
   "name": "python",
   "nbconvert_exporter": "python",
   "pygments_lexer": "ipython3",
   "version": "3.10.13"
  }
 },
 "nbformat": 4,
 "nbformat_minor": 2
}
